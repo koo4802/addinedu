{
 "cells": [
  {
   "cell_type": "code",
   "execution_count": 29,
   "metadata": {},
   "outputs": [],
   "source": [
    "from selenium import webdriver\n",
    "from selenium.webdriver.chrome.service import Service\n",
    "from selenium.webdriver.chrome.options import Options\n",
    "from selenium.webdriver.common.by import By\n",
    "import time"
   ]
  },
  {
   "cell_type": "markdown",
   "metadata": {},
   "source": [
    "### 기업 정보 버튼 누르기"
   ]
  },
  {
   "cell_type": "code",
   "execution_count": 30,
   "metadata": {},
   "outputs": [],
   "source": [
    "prefix = \"https://www.saramin.co.kr/zf_user/search?keydownAccess=&searchword=\"\n",
    "searchword = \"로봇 SW 개발\"\n",
    "url = prefix + searchword.replace(\" \", \"+\")\n",
    "driver = webdriver.Chrome(service=Service(\"/home/koo4802/dev_ws/eda/driver/chromedriver\"))\n",
    "driver.set_window_size(1400, 1080)\n",
    "\n",
    "for _ in range(2):\n",
    "    driver.get(url)\n",
    "    time.sleep(1)\n",
    "company_link = driver.find_element(By.CSS_SELECTOR, \".tab_search_result.on li a[target='company']\")\n",
    "company_link.click()\n"
   ]
  },
  {
   "cell_type": "markdown",
   "metadata": {},
   "source": [
    "### 기업 링크 리스트 추출"
   ]
  },
  {
   "cell_type": "code",
   "execution_count": 31,
   "metadata": {},
   "outputs": [
    {
     "data": {
      "text/plain": [
       "['https://www.saramin.co.kr/zf_user/company-info/view?csn=U1RmUDhEQ2tTb0dGZXNOSnB5clp4dz09',\n",
       " 'https://www.saramin.co.kr/zf_user/company-info/view?csn=aTc1RVBIZklBZWU4Tzk1VGFWeFFIZz09',\n",
       " 'https://www.saramin.co.kr/zf_user/company-info/view?csn=bW9CL2JQZFQ5N2V3UFU1VWo1NWdBUT09',\n",
       " 'https://www.saramin.co.kr/zf_user/company-info/view?csn=VWx6di93RlR4RDZpTWhWYVVURXFYdz09',\n",
       " 'https://www.saramin.co.kr/zf_user/company-info/view?csn=QmZkeUFWZzFhVXRyRXVOakxYeFpQUT09',\n",
       " 'https://www.saramin.co.kr/zf_user/company-info/view?csn=VStOT3crRTBmS1lZRFBHM3Y3Uk1rZz09',\n",
       " 'https://www.saramin.co.kr/zf_user/company-info/view?csn=ZEhCa0xrUEdxbXlZbGpKYXJscGpLZz09',\n",
       " 'https://www.saramin.co.kr/zf_user/company-info/view?csn=cDNlNzFteTM1N1pZTmJMNlh6WUY2UT09',\n",
       " 'https://www.saramin.co.kr/zf_user/company-info/view?csn=VFBNSkFGVXRBc0k2aTB1b3p5OWUyZz09',\n",
       " 'https://www.saramin.co.kr/zf_user/company-info/view?csn=cllYYkEyQmYwQThCL1YrYThtQmNNdz09',\n",
       " 'https://www.saramin.co.kr/zf_user/company-info/view?csn=YVNrdUNONDNZOXZMZENNUkYwTG1GZz09',\n",
       " 'https://www.saramin.co.kr/zf_user/company-info/view?csn=dHR6V3JUTWZNUERGOGRLMGp2U2YwQT09',\n",
       " 'https://www.saramin.co.kr/zf_user/company-info/view?csn=WlRna3gyNWVRWE9HNTFSZDA4VFYyQT09',\n",
       " 'https://www.saramin.co.kr/zf_user/company-info/view?csn=ZFJmWkFkV3FzaGl0ckpMY1RHSGpnZz09',\n",
       " 'https://www.saramin.co.kr/zf_user/company-info/view?csn=V0tkS2l3cm11aGNQZEh6aVZsS2hNUT09',\n",
       " 'https://www.saramin.co.kr/zf_user/company-info/view?csn=dEg2OVBZM3Y5Z3NHN1lqUlk3NkQ0QT09',\n",
       " 'https://www.saramin.co.kr/zf_user/company-info/view?csn=Q3RRT3BVbU5rMDh6MFRUSEFWM2hmUT09',\n",
       " 'https://www.saramin.co.kr/zf_user/company-info/view?csn=NC9Rc3ppTnRwUjlabEJIZFJrdVlVdz09',\n",
       " 'https://www.saramin.co.kr/zf_user/company-info/view?csn=dXJUdkZWMm1IYnZ1ejFleWQxbkpSQT09',\n",
       " 'https://www.saramin.co.kr/zf_user/company-info/view?csn=ME4zdk5IMlQxdlJZOHMwVmhReUNtdz09']"
      ]
     },
     "execution_count": 31,
     "metadata": {},
     "output_type": "execute_result"
    }
   ],
   "source": [
    "href_list = [comany_link.get_attribute(\"href\") for comany_link in driver.find_elements(By.CSS_SELECTOR, \".corp_name a\")]\n",
    "href_list"
   ]
  },
  {
   "cell_type": "markdown",
   "metadata": {},
   "source": [
    "### URL 타고 넘어가서 기업 정보 추출"
   ]
  },
  {
   "cell_type": "code",
   "execution_count": 72,
   "metadata": {},
   "outputs": [
    {
     "name": "stdout",
     "output_type": "stream",
     "text": [
      "2017년 5월 8일 설립\n",
      "기업형태\n",
      "사원수\n",
      "매출액\n"
     ]
    }
   ],
   "source": [
    "driver.get(href_list[1])\n",
    "title = driver.find_element(By.CLASS_NAME, \"tit_company\").get_attribute(\"title\")\n",
    "company_form = driver.find_element(By.CLASS_NAME, \"company_summary\").find_elements(By.CLASS_NAME, \"company_summary_tit\")\n",
    "key_info = driver.find_elements(By.CLASS_NAME, \"company_summary_desc\")\n",
    "for info in key_info:\n",
    "    print(info.text)\n"
   ]
  },
  {
   "cell_type": "code",
   "execution_count": 63,
   "metadata": {},
   "outputs": [
    {
     "data": {
      "text/plain": [
       "{'기업명': '(주)로보티즈',\n",
       " '업력': '업력 27년차',\n",
       " '업종': '그 외 기타 특수목적용 기계 제조업',\n",
       " '기업형태': '중소기업',\n",
       " '사원수': '158 명',\n",
       " '매출액': '비공개',\n",
       " '주소': '서울 강서구 마곡중앙5로1길 37'}"
      ]
     },
     "execution_count": 63,
     "metadata": {},
     "output_type": "execute_result"
    }
   ],
   "source": [
    "driver.get(href_list[0])\n",
    "title = driver.find_element(By.CLASS_NAME, \"tit_company\").get_attribute(\"title\")\n",
    "key_info = driver.find_elements(By.CLASS_NAME, \"company_summary_desc\")\n",
    "company_form = driver.find_element(By.CLASS_NAME, \"company_summary\").find_elements(By.CLASS_NAME, \"company_summary_tit\")\n",
    "company_details = driver.find_elements(By.CLASS_NAME, \"company_details_group dd\")\n",
    "# 기본 정보 설정\n",
    "company_info = {\"기업명\": title}\n",
    "\n",
    "for i, form_element in enumerate(company_form):\n",
    "    if i == 0 and \" \" in form_element.text:  # 첫 번째 요소가 \"업력 10년\" 같은 형식인 경우\n",
    "        parts = form_element.text.split(\" \", 1)\n",
    "        if len(parts) >= 2:\n",
    "            company_info[parts[0]] = parts[1]\n",
    "        else:\n",
    "            company_info[f\"정보{i+1}\"] = form_element.text\n",
    "    elif i < len(key_info):  # key_info에 해당하는 인덱스가 있는 경우\n",
    "        company_info[key_info[i].text] = form_element.text\n",
    "    else:  # key_info에 해당하는 인덱스가 없는 경우\n",
    "        company_info[f\"정보{i+1}\"] = form_element.text\n",
    "company_info"
   ]
  },
  {
   "cell_type": "markdown",
   "metadata": {},
   "source": [
    "### 연봉 정보(최소, 평균, 최대)"
   ]
  },
  {
   "cell_type": "code",
   "execution_count": 64,
   "metadata": {},
   "outputs": [
    {
     "data": {
      "text/plain": [
       "{'기업명': '(주)로보티즈',\n",
       " '업력': '업력 27년차',\n",
       " '업종': '그 외 기타 특수목적용 기계 제조업',\n",
       " '기업형태': '중소기업',\n",
       " '사원수': '158 명',\n",
       " '매출액': '비공개',\n",
       " '주소': '서울 강서구 마곡중앙5로1길 37',\n",
       " '연봉정보': {'최소': '3,130만원', '평균': '5,406 만원', '최대': '6,948만원'}}"
      ]
     },
     "execution_count": 64,
     "metadata": {},
     "output_type": "execute_result"
    }
   ],
   "source": [
    "menu_ul_element = driver.find_element(By.CLASS_NAME, \"menu_list\")\n",
    "li_list = menu_ul_element.find_elements(By.TAG_NAME, \"li\")\n",
    "for li in li_list:\n",
    "    if li.text == \"연봉정보\":\n",
    "        li.click()\n",
    "        break\n",
    "avg_salary = driver.find_element(By.CLASS_NAME, \"average_currency\").text\n",
    "min_salary = driver.find_element(By.CLASS_NAME, \"min_txt\").text\n",
    "max_salary = driver.find_element(By.CLASS_NAME, \"max_txt\").text\n",
    "company_info[\"연봉정보\"] = {\"최소\" : min_salary, \"평균\" : avg_salary, \"최대\" : max_salary}\n",
    "company_info"
   ]
  },
  {
   "cell_type": "markdown",
   "metadata": {},
   "source": [
    "### 셀 하나로 병합"
   ]
  },
  {
   "cell_type": "code",
   "execution_count": 67,
   "metadata": {},
   "outputs": [
    {
     "data": {
      "text/plain": [
       "[{'기업명': '(주)로보티즈',\n",
       "  '업력': '업력 27년차',\n",
       "  '업종': '그 외 기타 특수목적용 기계 제조업',\n",
       "  '기업형태': '중소기업',\n",
       "  '사원수': '158 명',\n",
       "  '매출액': '비공개',\n",
       "  '주소': '서울 강서구 마곡중앙5로1길 37',\n",
       "  '연봉정보': {'최소': '3,130만원', '평균': '5,406 만원', '최대': '6,948만원'}},\n",
       " {'기업명': '(주)클로봇',\n",
       "  '업력': '업력 9년차',\n",
       "  '업종': '응용 소프트웨어 개발 및 공급업',\n",
       "  '기업형태': '스타트업',\n",
       "  '사원수': '136 명',\n",
       "  '매출액': '134억 4,336만원',\n",
       "  '주소': '경기 성남시 분당구 성남대로925번길 16, 7층 701호',\n",
       "  '연봉정보': {'최소': '3,462만원', '평균': '6,605 만원', '최대': '7,915만원'}},\n",
       " {'기업명': '휴림로봇(주)',\n",
       "  '업력': '업력 27년차',\n",
       "  '업종': '산업용 로봇 제조업',\n",
       "  '기업형태': '63 명',\n",
       "  '사원수': '비공개',\n",
       "  '매출액': '비공개',\n",
       "  '주소': '충남 천안시 서북구 직산읍 4산단6길 27',\n",
       "  '연봉정보': {'최소': '2,824만원', '평균': '4,268 만원', '최대': '6,216만원'}}]"
      ]
     },
     "execution_count": 67,
     "metadata": {},
     "output_type": "execute_result"
    }
   ],
   "source": [
    "company_info_list = []\n",
    "for href in href_list[:3]:\n",
    "    driver.get(href)\n",
    "    time.sleep(1)\n",
    "    title = driver.find_element(By.CLASS_NAME, \"tit_company\").get_attribute(\"title\")\n",
    "    company_form = driver.find_element(By.CLASS_NAME, \"company_summary\").find_elements(By.CLASS_NAME, \"company_summary_tit\")\n",
    "    company_details = driver.find_elements(By.CLASS_NAME, \"company_details_group dd\")\n",
    "    company_info = {\"기업명\" : title,\n",
    "                    \"업력\" : company_form[0].text,\n",
    "                    \"업종\" : company_details[0].text,\n",
    "                    \"기업형태\" : company_form[1].text,\n",
    "                    \"사원수\" : company_form[2].text if len(company_form) > 2 else \"비공개\",\n",
    "                    \"매출액\" : company_form[3].text if len(company_form) > 3 else \"비공개\",\n",
    "                    \"주소\" : company_details[4].text.split(\"\\n\")[0]}\n",
    "    menu_ul_element = driver.find_element(By.CLASS_NAME, \"menu_list\")\n",
    "    li_list = menu_ul_element.find_elements(By.TAG_NAME, \"li\")\n",
    "    for li in li_list:\n",
    "        if li.text == \"연봉정보\":\n",
    "            li.click()\n",
    "            break\n",
    "    avg_salary = driver.find_element(By.CLASS_NAME, \"average_currency\").text\n",
    "    min_salary = driver.find_element(By.CLASS_NAME, \"min_txt\").text\n",
    "    max_salary = driver.find_element(By.CLASS_NAME, \"max_txt\").text\n",
    "    company_info[\"연봉정보\"] = {\"최소\" : min_salary, \"평균\" : avg_salary, \"최대\" : max_salary}\n",
    "    company_info_list.append(company_info)\n",
    "company_info_list"
   ]
  }
 ],
 "metadata": {
  "kernelspec": {
   "display_name": "eda_venv",
   "language": "python",
   "name": "python3"
  },
  "language_info": {
   "codemirror_mode": {
    "name": "ipython",
    "version": 3
   },
   "file_extension": ".py",
   "mimetype": "text/x-python",
   "name": "python",
   "nbconvert_exporter": "python",
   "pygments_lexer": "ipython3",
   "version": "3.10.12"
  }
 },
 "nbformat": 4,
 "nbformat_minor": 2
}
