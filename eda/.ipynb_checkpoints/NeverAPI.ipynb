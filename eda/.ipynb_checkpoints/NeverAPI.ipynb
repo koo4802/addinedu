{
 "cells": [
  {
   "cell_type": "code",
   "execution_count": 2,
   "metadata": {},
   "outputs": [
    {
     "name": "stdout",
     "output_type": "stream",
     "text": [
      "{\n",
      "\t\"lastBuildDate\":\"Fri, 07 Mar 2025 10:50:55 +0900\",\n",
      "\t\"total\":1160464,\n",
      "\t\"start\":1,\n",
      "\t\"display\":10,\n",
      "\t\"items\":[\n",
      "\t\t{\n",
      "\t\t\t\"title\":\"스마트스토어 <b>검색<\\/b>광고 키워드 적중률 높은 <b>단어<\\/b> 찾기\",\n",
      "\t\t\t\"link\":\"https:\\/\\/blog.naver.com\\/agqakrtibt\\/223719695005\",\n",
      "\t\t\t\"description\":\"스마트스토어 <b>검색<\\/b>광고 키워드 적중률 높은 <b>단어<\\/b> 찾기 스마트스토어 <b>검색<\\/b>광고 키워드 적중률 높은 <b>단어<\\/b> 찾기 스마트스토어 <b>검색<\\/b>광고 키워드 적중률 높은 <b>단어<\\/b> 찾기 &lt;목차&gt; 1. 스마트스토어 <b>검색<\\/b> 광교란... \",\n",
      "\t\t\t\"bloggername\":\"✅주식회사 시월기획✅\",\n",
      "\t\t\t\"bloggerlink\":\"blog.naver.com\\/agqakrtibt\",\n",
      "\t\t\t\"postdate\":\"20250109\"\n",
      "\t\t},\n",
      "\t\t{\n",
      "\t\t\t\"title\":\"엑셀 <b>검색<\\/b> 기능 단축키 <b>단어<\\/b> 찾기 꿀팁\",\n",
      "\t\t\t\"link\":\"https:\\/\\/blog.naver.com\\/wizsun123\\/223516318917\",\n",
      "\t\t\t\"description\":\"엑셀 <b>단어<\\/b> <b>검색<\\/b> 오류 엑셀 <b>검색할<\\/b> 때뿐만 아니라 Excel에서 작업할 때 유의해야하는 점은 바로 표시형식인데요. 데이터 형식이 일치하지 않으면 <b>검색<\\/b>이 제대로 이루어지지 않습니다. 분명 자료에 있는데... \",\n",
      "\t\t\t\"bloggername\":\"정보블로거 위즈썬\",\n",
      "\t\t\t\"bloggerlink\":\"blog.naver.com\\/wizsun123\",\n",
      "\t\t\t\"postdate\":\"20240717\"\n",
      "\t\t},\n",
      "\t\t{\n",
      "\t\t\t\"title\":\"AP. 엑셀 <b>단어<\\/b><b>검색<\\/b> 함수 SEARCH 함수, ISNUMBER 함수\",\n",
      "\t\t\t\"link\":\"https:\\/\\/blog.naver.com\\/jdkim0521\\/223321645575\",\n",
      "\t\t\t\"description\":\"'<b>검색<\\/b><b>단어<\\/b>'에 <b>검색<\\/b>을 해서 구분에 표기를 하려고 하는거에요!! SEARCH 함수 텍스트 <b>검색<\\/b>을 하는 함수는 딱 2가지를 아시면 됩니다. SEARCH 함수와 ISNUMBER함수를 잘 활용해서 찾아낼 수 있어요! (물론 출력을... \",\n",
      "\t\t\t\"bloggername\":\"발전하는삶살기(재테크,화공,MS,화학,독서)\",\n",
      "\t\t\t\"bloggerlink\":\"blog.naver.com\\/jdkim0521\",\n",
      "\t\t\t\"postdate\":\"20240113\"\n",
      "\t\t},\n",
      "\t\t{\n",
      "\t\t\t\"title\":\"english wrod+ disambiguation (구글 <b>검색<\\/b>으로 영어 <b>단어<\\/b>... \",\n",
      "\t\t\t\"link\":\"https:\\/\\/blog.naver.com\\/yugus\\/223525138975\",\n",
      "\t\t\t\"description\":\"한국의 초등학교 용어를 영어 <b>단어<\\/b> <b>검색<\\/b> english word + disambiguation을 해야 하는 용어의 갯수는? 한국어 교과서를 일일이 뒤지지 않아도 찾을 수있다. english word +dismabiguation으로 day 에 최대... \",\n",
      "\t\t\t\"bloggername\":\"blue sole\",\n",
      "\t\t\t\"bloggerlink\":\"blog.naver.com\\/yugus\",\n",
      "\t\t\t\"postdate\":\"20240725\"\n",
      "\t\t},\n",
      "\t\t{\n",
      "\t\t\t\"title\":\"블랙키위 키워드 찾기 제목 상위 노출 <b>단어<\\/b> <b>검색<\\/b> 팁\",\n",
      "\t\t\t\"link\":\"https:\\/\\/blog.naver.com\\/practice-go\\/223777825900\",\n",
      "\t\t\t\"description\":\"블랙키위 키워드 찾기 제목 상위 노출 <b>단어<\\/b> <b>검색<\\/b> 팁 준비했습니다. 이제 갓 블로그에 입문한 블린이라면 꼭 참고해 보세요. 상노 할 때 꼭 필요한 타이틀에 넣을 <b>단어<\\/b>를 어떻게 조회하고 찾아내고 관리할 수... \",\n",
      "\t\t\t\"bloggername\":\"미은디은 블로그\",\n",
      "\t\t\t\"bloggerlink\":\"blog.naver.com\\/practice-go\",\n",
      "\t\t\t\"postdate\":\"20250228\"\n",
      "\t\t},\n",
      "\t\t{\n",
      "\t\t\t\"title\":\"자잘한 꿀팁 모음집!! 상해 맛집 스팟 고덕지도 <b>검색<\\/b><b>단어<\\/b>\",\n",
      "\t\t\t\"link\":\"https:\\/\\/blog.naver.com\\/hyemin-_-v\\/223766525009\",\n",
      "\t\t\t\"description\":\"헌지우이치엔 주광옥 패왕차희는 영어<b>검색<\\/b>이 어려우니 맨아래에 <b>단어<\\/b> 복붙해서 <b>검색<\\/b>해보세요!! 꿀팁 ! 여행 전 한번 <b>검색<\\/b>해서 들어가보고 이후에 위챗 첫 화면에서 아래로 내려보면 어플목록처럼 나오니... \",\n",
      "\t\t\t\"bloggername\":\"혜민이 놀이터\",\n",
      "\t\t\t\"bloggerlink\":\"blog.naver.com\\/hyemin-_-v\",\n",
      "\t\t\t\"postdate\":\"20250219\"\n",
      "\t\t},\n",
      "\t\t{\n",
      "\t\t\t\"title\":\"웹 페이지 또는 문서에서 <b>단어<\\/b>를 <b>검색<\\/b>하는 3가지 방법\",\n",
      "\t\t\t\"link\":\"https:\\/\\/blog.naver.com\\/iexceller\\/223607573313\",\n",
      "\t\t\t\"description\":\"방법 3: 스마트폰에서 페이지의 <b>단어<\\/b> <b>검색<\\/b>하기 모바일 디바이스에서도 웹페이지나 문서에서 텍스트를 <b>검색<\\/b>하는 것은 매우 쉽습니다. 다음은 Microsoft Edge를 예로 들어 설명한 방법이지만, Chrome, Safari와... \",\n",
      "\t\t\t\"bloggername\":\"엑셀러 권현욱의 Excel & IT 정보\",\n",
      "\t\t\t\"bloggerlink\":\"blog.naver.com\\/iexceller\",\n",
      "\t\t\t\"postdate\":\"20241005\"\n",
      "\t\t},\n",
      "\t\t{\n",
      "\t\t\t\"title\":\"1년 중 ‘와인’ <b>단어<\\/b> <b>검색<\\/b>이 가장 많은 날은?\",\n",
      "\t\t\t\"link\":\"https:\\/\\/blog.naver.com\\/swallow7109\\/223607904752\",\n",
      "\t\t\t\"description\":\"‘와인’ <b>단어<\\/b> <b>검색<\\/b>이 가장 많은 날은? 와인 강의 때문에 매년 데이터를 리뉴얼 하는데 역시 매년 같습니다! 12월 24일 크리스마스 이브. 예상하실 수 있지요?ㅎㅎ 술 강의는 #전재구 #한국음료강사협의회... \",\n",
      "\t\t\t\"bloggername\":\"와인, 칵테일, 위스키 등 술 강의•컨설팅•심사\",\n",
      "\t\t\t\"bloggerlink\":\"blog.naver.com\\/swallow7109\",\n",
      "\t\t\t\"postdate\":\"20241005\"\n",
      "\t\t},\n",
      "\t\t{\n",
      "\t\t\t\"title\":\"엑셀 VBA 매크로 특정 <b>단어<\\/b> <b>검색<\\/b> 시 자동 색상 변경하는 방법\",\n",
      "\t\t\t\"link\":\"https:\\/\\/blog.naver.com\\/whsemrtm_\\/223741833146\",\n",
      "\t\t\t\"description\":\"색상을 변경할 범위 지정 &quot;&quot; 특정 <b>단어<\\/b> <b>검색<\\/b> 후 색상을 변경할 범위를 A1에서 V328까지 지정합니다. 필요에 따라 범위를 조정할 수 있습니다. 3. 입력값이 없을 경우 색상 초기화 &quot;&quot; 만약 V1 셀이 비어... \",\n",
      "\t\t\t\"bloggername\":\"물멍하는 쫀득스\",\n",
      "\t\t\t\"bloggerlink\":\"blog.naver.com\\/whsemrtm_\",\n",
      "\t\t\t\"postdate\":\"20250129\"\n",
      "\t\t},\n",
      "\t\t{\n",
      "\t\t\t\"title\":\"한글 <b>단어<\\/b> <b>검색<\\/b> 활용하기. 단축키. 이렇게 쉬운 방법을 안쓰고... \",\n",
      "\t\t\t\"link\":\"https:\\/\\/blog.naver.com\\/zenither\\/223041954219\",\n",
      "\t\t\t\"description\":\"한글을 그렇게 오래동안 써도 <b>단어<\\/b> <b>검색<\\/b>을 해보지 않았다는 사실을 발견했네요. 바로 ctrl + F 입니다. 대소문자 구별해서 찾기, 띄어쓰기 무시 기능도 있어서 왠만한 <b>단어<\\/b>는 다 찾아집니다. 책 한권의 긴 글을... \",\n",
      "\t\t\t\"bloggername\":\"행동하는 독서\",\n",
      "\t\t\t\"bloggerlink\":\"blog.naver.com\\/zenither\",\n",
      "\t\t\t\"postdate\":\"20230312\"\n",
      "\t\t}\n",
      "\t]\n",
      "}\n"
     ]
    }
   ],
   "source": [
    "# 네이버 검색 API 예제 - 블로그 검색\n",
    "import os\n",
    "import sys\n",
    "import urllib.request\n",
    "client_id = \"h2JqLDOL4ck6ORwhWaDW\"\n",
    "client_secret = \"tuiA1DgtHq\"\n",
    "encText = urllib.parse.quote(\"검색할 단어\")\n",
    "url = \"https://openapi.naver.com/v1/search/blog?query=\" + encText # JSON 결과\n",
    "# url = \"https://openapi.naver.com/v1/search/blog.xml?query=\" + encText # XML 결과\n",
    "request = urllib.request.Request(url)\n",
    "request.add_header(\"X-Naver-Client-Id\",client_id)\n",
    "request.add_header(\"X-Naver-Client-Secret\",client_secret)\n",
    "response = urllib.request.urlopen(request)\n",
    "rescode = response.getcode()\n",
    "if(rescode==200):\n",
    "    response_body = response.read()\n",
    "    print(response_body.decode('utf-8'))\n",
    "else:\n",
    "    print(\"Error Code:\" + rescode)"
   ]
  },
  {
   "cell_type": "code",
   "execution_count": 3,
   "metadata": {},
   "outputs": [],
   "source": [
    "def gen_search_url(api_node, search_text, start_num, disp_num):\n",
    "    base = \"https://openapi.naver.com/v1/search\"\n",
    "    node = \"/\" + api_node + \".json\"\n",
    "    params = \"?query=\" + urllib.parse.quote(search_text) + \"&start=\" + str(start_num) + \"&display=\" + str(disp_num)\n",
    "    url = base + node + params\n",
    "    return url\n",
    "    "
   ]
  },
  {
   "cell_type": "code",
   "execution_count": 4,
   "metadata": {},
   "outputs": [
    {
     "data": {
      "text/plain": [
       "'https://openapi.naver.com/v1/search/shop.json?query=TEST&start=10&display=3'"
      ]
     },
     "execution_count": 4,
     "metadata": {},
     "output_type": "execute_result"
    }
   ],
   "source": [
    "gen_search_url(\"shop\", \"TEST\", 10, 3)"
   ]
  },
  {
   "cell_type": "code",
   "execution_count": 5,
   "metadata": {},
   "outputs": [],
   "source": [
    "import json\n",
    "import datetime\n",
    "def get_result_onpage(url):\n",
    "    request = urllib.request.Request(url)\n",
    "    request.add_header(\"X-Naver-Client-Id\",client_id)\n",
    "    request.add_header(\"X-Naver-Client-Secret\",client_secret)\n",
    "\n",
    "    response = urllib.request.urlopen(request)\n",
    "\n",
    "    rescode = response.getcode()\n",
    "    if(rescode == 200):\n",
    "        print(\"[%s] Url Request Success\" %datetime.datetime.now())\n",
    "    \n",
    "    return json.loads(response.read().decode('utf-8'))\n",
    "\n",
    "    "
   ]
  },
  {
   "cell_type": "code",
   "execution_count": 6,
   "metadata": {},
   "outputs": [
    {
     "name": "stdout",
     "output_type": "stream",
     "text": [
      "[2025-03-07 10:50:55.828266] Url Request Success\n"
     ]
    }
   ],
   "source": [
    "client_id = \"h2JqLDOL4ck6ORwhWaDW\"\n",
    "client_secret = \"tuiA1DgtHq\"\n",
    "\n",
    "url = gen_search_url('shop', '몰스킨', 1, 5)\n",
    "one_result = get_result_onpage(url)"
   ]
  },
  {
   "cell_type": "code",
   "execution_count": 7,
   "metadata": {},
   "outputs": [
    {
     "data": {
      "text/plain": [
       "{'lastBuildDate': 'Fri, 07 Mar 2025 10:50:55 +0900',\n",
       " 'total': 46154,\n",
       " 'start': 1,\n",
       " 'display': 5,\n",
       " 'items': [{'title': '[<b>몰스킨</b>] 2025년 클래식 다이어리 (12개월) (데일리, 위클리, 먼슬리)',\n",
       "   'link': 'http://www.moleskine.co.kr/index.html?branduid=2557327&ref=naver_open',\n",
       "   'image': 'https://shopping-phinf.pstatic.net/main_5006626/50066265686.jpg',\n",
       "   'lprice': '16200',\n",
       "   'hprice': '',\n",
       "   'mallName': '몰스킨공식온라인스토어',\n",
       "   'productId': '50066265686',\n",
       "   'productType': '2',\n",
       "   'brand': '몰스킨',\n",
       "   'maker': '',\n",
       "   'category1': '생활/건강',\n",
       "   'category2': '문구/사무용품',\n",
       "   'category3': '다이어리/플래너',\n",
       "   'category4': '다이어리'},\n",
       "  {'title': '<b>몰스킨</b> 클래식노트 하드커버',\n",
       "   'link': 'https://search.shopping.naver.com/catalog/46221773618',\n",
       "   'image': 'https://shopping-phinf.pstatic.net/main_4622177/46221773618.20240306165408.jpg',\n",
       "   'lprice': '28800',\n",
       "   'hprice': '',\n",
       "   'mallName': '네이버',\n",
       "   'productId': '46221773618',\n",
       "   'productType': '1',\n",
       "   'brand': '몰스킨',\n",
       "   'maker': '몰스킨',\n",
       "   'category1': '생활/건강',\n",
       "   'category2': '문구/사무용품',\n",
       "   'category3': '노트/수첩',\n",
       "   'category4': '노트'},\n",
       "  {'title': '[백화점] 폴로 랄프로렌 남성 <b>몰스킨</b> 유틸리티 자켓',\n",
       "   'link': 'https://smartstore.naver.com/main/products/11359434366',\n",
       "   'image': 'https://shopping-phinf.pstatic.net/main_8890394/88903944717.jpg',\n",
       "   'lprice': '329000',\n",
       "   'hprice': '',\n",
       "   'mallName': '제이어드',\n",
       "   'productId': '88903944717',\n",
       "   'productType': '2',\n",
       "   'brand': '폴로랄프로렌',\n",
       "   'maker': '폴로랄프로렌',\n",
       "   'category1': '패션의류',\n",
       "   'category2': '남성의류',\n",
       "   'category3': '재킷',\n",
       "   'category4': ''},\n",
       "  {'title': '로이텀 2025 다이어리 위클리&amp;노트 소프트커버 하드커버 A5',\n",
       "   'link': 'https://smartstore.naver.com/main/products/10874787556',\n",
       "   'image': 'https://shopping-phinf.pstatic.net/main_8841929/88419293569.jpg',\n",
       "   'lprice': '25200',\n",
       "   'hprice': '',\n",
       "   'mallName': '몰스킨스토어',\n",
       "   'productId': '88419293569',\n",
       "   'productType': '2',\n",
       "   'brand': '로이텀',\n",
       "   'maker': '로이텀',\n",
       "   'category1': '생활/건강',\n",
       "   'category2': '문구/사무용품',\n",
       "   'category3': '다이어리/플래너',\n",
       "   'category4': '다이어리'},\n",
       "  {'title': '<b>몰스킨</b> 2025 위클리 다이어리 상품선택',\n",
       "   'link': 'https://search.shopping.naver.com/catalog/51017367696',\n",
       "   'image': 'https://shopping-phinf.pstatic.net/main_5101736/51017367696.20241030062351.jpg',\n",
       "   'lprice': '18000',\n",
       "   'hprice': '',\n",
       "   'mallName': '네이버',\n",
       "   'productId': '51017367696',\n",
       "   'productType': '1',\n",
       "   'brand': '몰스킨',\n",
       "   'maker': '몰스킨',\n",
       "   'category1': '생활/건강',\n",
       "   'category2': '문구/사무용품',\n",
       "   'category3': '다이어리/플래너',\n",
       "   'category4': '다이어리'}]}"
      ]
     },
     "execution_count": 7,
     "metadata": {},
     "output_type": "execute_result"
    }
   ],
   "source": [
    "one_result"
   ]
  },
  {
   "cell_type": "code",
   "execution_count": 8,
   "metadata": {},
   "outputs": [
    {
     "data": {
      "text/plain": [
       "'[<b>몰스킨</b>] 2025년 클래식 다이어리 (12개월) (데일리, 위클리, 먼슬리)'"
      ]
     },
     "execution_count": 8,
     "metadata": {},
     "output_type": "execute_result"
    }
   ],
   "source": [
    "one_result['items'][0]['title']"
   ]
  },
  {
   "cell_type": "code",
   "execution_count": 9,
   "metadata": {},
   "outputs": [
    {
     "data": {
      "text/plain": [
       "'16200'"
      ]
     },
     "execution_count": 9,
     "metadata": {},
     "output_type": "execute_result"
    }
   ],
   "source": [
    "one_result['items'][0]['lprice']"
   ]
  },
  {
   "cell_type": "code",
   "execution_count": 10,
   "metadata": {},
   "outputs": [
    {
     "data": {
      "text/plain": [
       "'몰스킨공식온라인스토어'"
      ]
     },
     "execution_count": 10,
     "metadata": {},
     "output_type": "execute_result"
    }
   ],
   "source": [
    "one_result['items'][0]['mallName']"
   ]
  },
  {
   "cell_type": "code",
   "execution_count": 12,
   "metadata": {},
   "outputs": [],
   "source": [
    "import pandas as pd\n",
    "\n",
    "def get_fields(json_data):\n",
    "    title = [each['title'] for each in json_data['items']]\n",
    "    link = [each['link'] for each in json_data['items']]\n",
    "    lprice = [each['lprice'] for each in json_data['items']]\n",
    "    hprice = [each['hprice'] for each in json_data['items']]\n",
    "    mall_name = [each['mallName'] for each in json_data['items']]\n",
    "\n",
    "    result_pd = pd.DataFrame({\n",
    "        'title': title,\n",
    "        'link': link,\n",
    "        'lprice': lprice,\n",
    "        'hprice': hprice,\n",
    "        'mall': mall_name\n",
    "    }, columns=['title', 'lprice', 'hprice','link', 'mall'])\n",
    "    \n",
    "    return result_pd\n",
    "    "
   ]
  },
  {
   "cell_type": "code",
   "execution_count": 13,
   "metadata": {},
   "outputs": [
    {
     "data": {
      "text/html": [
       "<div>\n",
       "<style scoped>\n",
       "    .dataframe tbody tr th:only-of-type {\n",
       "        vertical-align: middle;\n",
       "    }\n",
       "\n",
       "    .dataframe tbody tr th {\n",
       "        vertical-align: top;\n",
       "    }\n",
       "\n",
       "    .dataframe thead th {\n",
       "        text-align: right;\n",
       "    }\n",
       "</style>\n",
       "<table border=\"1\" class=\"dataframe\">\n",
       "  <thead>\n",
       "    <tr style=\"text-align: right;\">\n",
       "      <th></th>\n",
       "      <th>title</th>\n",
       "      <th>lprice</th>\n",
       "      <th>hprice</th>\n",
       "      <th>link</th>\n",
       "      <th>mall</th>\n",
       "    </tr>\n",
       "  </thead>\n",
       "  <tbody>\n",
       "    <tr>\n",
       "      <th>0</th>\n",
       "      <td>[&lt;b&gt;몰스킨&lt;/b&gt;] 2025년 클래식 다이어리 (12개월) (데일리, 위클리, ...</td>\n",
       "      <td>16200</td>\n",
       "      <td></td>\n",
       "      <td>http://www.moleskine.co.kr/index.html?branduid...</td>\n",
       "      <td>몰스킨공식온라인스토어</td>\n",
       "    </tr>\n",
       "    <tr>\n",
       "      <th>1</th>\n",
       "      <td>&lt;b&gt;몰스킨&lt;/b&gt; 클래식노트 하드커버</td>\n",
       "      <td>28800</td>\n",
       "      <td></td>\n",
       "      <td>https://search.shopping.naver.com/catalog/4622...</td>\n",
       "      <td>네이버</td>\n",
       "    </tr>\n",
       "    <tr>\n",
       "      <th>2</th>\n",
       "      <td>[백화점] 폴로 랄프로렌 남성 &lt;b&gt;몰스킨&lt;/b&gt; 유틸리티 자켓</td>\n",
       "      <td>329000</td>\n",
       "      <td></td>\n",
       "      <td>https://smartstore.naver.com/main/products/113...</td>\n",
       "      <td>제이어드</td>\n",
       "    </tr>\n",
       "    <tr>\n",
       "      <th>3</th>\n",
       "      <td>로이텀 2025 다이어리 위클리&amp;amp;노트 소프트커버 하드커버 A5</td>\n",
       "      <td>25200</td>\n",
       "      <td></td>\n",
       "      <td>https://smartstore.naver.com/main/products/108...</td>\n",
       "      <td>몰스킨스토어</td>\n",
       "    </tr>\n",
       "    <tr>\n",
       "      <th>4</th>\n",
       "      <td>&lt;b&gt;몰스킨&lt;/b&gt; 2025 위클리 다이어리 상품선택</td>\n",
       "      <td>18000</td>\n",
       "      <td></td>\n",
       "      <td>https://search.shopping.naver.com/catalog/5101...</td>\n",
       "      <td>네이버</td>\n",
       "    </tr>\n",
       "  </tbody>\n",
       "</table>\n",
       "</div>"
      ],
      "text/plain": [
       "                                               title  lprice hprice  \\\n",
       "0  [<b>몰스킨</b>] 2025년 클래식 다이어리 (12개월) (데일리, 위클리, ...   16200          \n",
       "1                              <b>몰스킨</b> 클래식노트 하드커버   28800          \n",
       "2                [백화점] 폴로 랄프로렌 남성 <b>몰스킨</b> 유틸리티 자켓  329000          \n",
       "3             로이텀 2025 다이어리 위클리&amp;노트 소프트커버 하드커버 A5   25200          \n",
       "4                      <b>몰스킨</b> 2025 위클리 다이어리 상품선택   18000          \n",
       "\n",
       "                                                link         mall  \n",
       "0  http://www.moleskine.co.kr/index.html?branduid...  몰스킨공식온라인스토어  \n",
       "1  https://search.shopping.naver.com/catalog/4622...          네이버  \n",
       "2  https://smartstore.naver.com/main/products/113...         제이어드  \n",
       "3  https://smartstore.naver.com/main/products/108...       몰스킨스토어  \n",
       "4  https://search.shopping.naver.com/catalog/5101...          네이버  "
      ]
     },
     "execution_count": 13,
     "metadata": {},
     "output_type": "execute_result"
    }
   ],
   "source": [
    "get_fields(one_result)"
   ]
  },
  {
   "cell_type": "code",
   "execution_count": 14,
   "metadata": {},
   "outputs": [],
   "source": [
    "def delete_tag(input_str):\n",
    "    input_str = input_str.replace('<b>', '')\n",
    "    input_str = input_str.replace('</b>', '')\n",
    "    return input_str\n",
    "\n",
    "def get_fields(json_data):\n",
    "    title = [delete_tag(each['title']) for each in json_data['items']]\n",
    "    link = [each['link'] for each in json_data['items']]\n",
    "    lprice = [each['lprice'] for each in json_data['items']]\n",
    "    hprice = [each['hprice'] for each in json_data['items']]\n",
    "    mall_name = [each['mallName'] for each in json_data['items']]\n",
    "\n",
    "    result_pd = pd.DataFrame({\n",
    "        'title': title,\n",
    "        'link': link,\n",
    "        'lprice': lprice,\n",
    "        'hprice': hprice,\n",
    "        'mall': mall_name\n",
    "    }, columns=['title', 'lprice', 'hprice','link', 'mall'])\n",
    "    return result_pd"
   ]
  },
  {
   "cell_type": "code",
   "execution_count": 15,
   "metadata": {},
   "outputs": [
    {
     "name": "stdout",
     "output_type": "stream",
     "text": [
      "[2025-03-07 11:08:14.840804] Url Request Success\n"
     ]
    }
   ],
   "source": [
    "url = gen_search_url('shop', '몰스킨', 1, 5)\n",
    "json_result = get_result_onpage(url)\n",
    "pd_result = get_fields(json_result)\n"
   ]
  },
  {
   "cell_type": "code",
   "execution_count": 16,
   "metadata": {},
   "outputs": [
    {
     "data": {
      "text/html": [
       "<div>\n",
       "<style scoped>\n",
       "    .dataframe tbody tr th:only-of-type {\n",
       "        vertical-align: middle;\n",
       "    }\n",
       "\n",
       "    .dataframe tbody tr th {\n",
       "        vertical-align: top;\n",
       "    }\n",
       "\n",
       "    .dataframe thead th {\n",
       "        text-align: right;\n",
       "    }\n",
       "</style>\n",
       "<table border=\"1\" class=\"dataframe\">\n",
       "  <thead>\n",
       "    <tr style=\"text-align: right;\">\n",
       "      <th></th>\n",
       "      <th>title</th>\n",
       "      <th>lprice</th>\n",
       "      <th>hprice</th>\n",
       "      <th>link</th>\n",
       "      <th>mall</th>\n",
       "    </tr>\n",
       "  </thead>\n",
       "  <tbody>\n",
       "    <tr>\n",
       "      <th>0</th>\n",
       "      <td>[몰스킨] 2025년 클래식 다이어리 (12개월) (데일리, 위클리, 먼슬리)</td>\n",
       "      <td>16200</td>\n",
       "      <td></td>\n",
       "      <td>http://www.moleskine.co.kr/index.html?branduid...</td>\n",
       "      <td>몰스킨공식온라인스토어</td>\n",
       "    </tr>\n",
       "    <tr>\n",
       "      <th>1</th>\n",
       "      <td>몰스킨 클래식노트 하드커버</td>\n",
       "      <td>28800</td>\n",
       "      <td></td>\n",
       "      <td>https://search.shopping.naver.com/catalog/4622...</td>\n",
       "      <td>네이버</td>\n",
       "    </tr>\n",
       "    <tr>\n",
       "      <th>2</th>\n",
       "      <td>[백화점] 폴로 랄프로렌 남성 몰스킨 유틸리티 자켓</td>\n",
       "      <td>329000</td>\n",
       "      <td></td>\n",
       "      <td>https://smartstore.naver.com/main/products/113...</td>\n",
       "      <td>제이어드</td>\n",
       "    </tr>\n",
       "    <tr>\n",
       "      <th>3</th>\n",
       "      <td>로이텀 2025 다이어리 위클리&amp;amp;노트 소프트커버 하드커버 A5</td>\n",
       "      <td>25200</td>\n",
       "      <td></td>\n",
       "      <td>https://smartstore.naver.com/main/products/108...</td>\n",
       "      <td>몰스킨스토어</td>\n",
       "    </tr>\n",
       "    <tr>\n",
       "      <th>4</th>\n",
       "      <td>몰스킨 2025 위클리 다이어리 상품선택</td>\n",
       "      <td>18000</td>\n",
       "      <td></td>\n",
       "      <td>https://search.shopping.naver.com/catalog/5101...</td>\n",
       "      <td>네이버</td>\n",
       "    </tr>\n",
       "  </tbody>\n",
       "</table>\n",
       "</div>"
      ],
      "text/plain": [
       "                                         title  lprice hprice  \\\n",
       "0  [몰스킨] 2025년 클래식 다이어리 (12개월) (데일리, 위클리, 먼슬리)   16200          \n",
       "1                               몰스킨 클래식노트 하드커버   28800          \n",
       "2                 [백화점] 폴로 랄프로렌 남성 몰스킨 유틸리티 자켓  329000          \n",
       "3       로이텀 2025 다이어리 위클리&amp;노트 소프트커버 하드커버 A5   25200          \n",
       "4                       몰스킨 2025 위클리 다이어리 상품선택   18000          \n",
       "\n",
       "                                                link         mall  \n",
       "0  http://www.moleskine.co.kr/index.html?branduid...  몰스킨공식온라인스토어  \n",
       "1  https://search.shopping.naver.com/catalog/4622...          네이버  \n",
       "2  https://smartstore.naver.com/main/products/113...         제이어드  \n",
       "3  https://smartstore.naver.com/main/products/108...       몰스킨스토어  \n",
       "4  https://search.shopping.naver.com/catalog/5101...          네이버  "
      ]
     },
     "execution_count": 16,
     "metadata": {},
     "output_type": "execute_result"
    }
   ],
   "source": [
    "pd_result"
   ]
  },
  {
   "cell_type": "code",
   "execution_count": 17,
   "metadata": {},
   "outputs": [
    {
     "name": "stdout",
     "output_type": "stream",
     "text": [
      "1\n",
      "101\n",
      "201\n",
      "301\n",
      "401\n",
      "501\n",
      "601\n",
      "701\n",
      "801\n",
      "901\n"
     ]
    }
   ],
   "source": [
    "for n in range(1, 1000, 100):\n",
    "    print(n)"
   ]
  },
  {
   "cell_type": "code",
   "execution_count": 18,
   "metadata": {},
   "outputs": [
    {
     "name": "stdout",
     "output_type": "stream",
     "text": [
      "[2025-03-07 11:09:40.610323] Url Request Success\n",
      "[2025-03-07 11:09:40.861932] Url Request Success\n",
      "[2025-03-07 11:09:41.125425] Url Request Success\n",
      "[2025-03-07 11:09:41.434453] Url Request Success\n",
      "[2025-03-07 11:09:41.681749] Url Request Success\n",
      "[2025-03-07 11:09:42.047335] Url Request Success\n",
      "[2025-03-07 11:09:42.360498] Url Request Success\n",
      "[2025-03-07 11:09:42.663140] Url Request Success\n",
      "[2025-03-07 11:09:42.969901] Url Request Success\n",
      "[2025-03-07 11:09:43.277346] Url Request Success\n"
     ]
    }
   ],
   "source": [
    "result_mol = []\n",
    "for n in range(1, 1000, 100):\n",
    "    url = gen_search_url('shop', '몰스킨', n, 100)\n",
    "    json_result = get_result_onpage(url)\n",
    "    pd_result = get_fields(json_result)\n",
    "    result_mol.append(pd_result)\n",
    "\n",
    "result_mol = pd.concat(result_mol)"
   ]
  },
  {
   "cell_type": "code",
   "execution_count": 19,
   "metadata": {},
   "outputs": [
    {
     "name": "stdout",
     "output_type": "stream",
     "text": [
      "<class 'pandas.core.frame.DataFrame'>\n",
      "Index: 1000 entries, 0 to 99\n",
      "Data columns (total 5 columns):\n",
      " #   Column  Non-Null Count  Dtype \n",
      "---  ------  --------------  ----- \n",
      " 0   title   1000 non-null   object\n",
      " 1   lprice  1000 non-null   object\n",
      " 2   hprice  1000 non-null   object\n",
      " 3   link    1000 non-null   object\n",
      " 4   mall    1000 non-null   object\n",
      "dtypes: object(5)\n",
      "memory usage: 46.9+ KB\n"
     ]
    }
   ],
   "source": [
    "result_mol.info()"
   ]
  },
  {
   "cell_type": "code",
   "execution_count": 20,
   "metadata": {},
   "outputs": [],
   "source": [
    "result_mol.reset_index(drop=True, inplace=True)"
   ]
  },
  {
   "cell_type": "code",
   "execution_count": 21,
   "metadata": {},
   "outputs": [
    {
     "name": "stdout",
     "output_type": "stream",
     "text": [
      "<class 'pandas.core.frame.DataFrame'>\n",
      "RangeIndex: 1000 entries, 0 to 999\n",
      "Data columns (total 5 columns):\n",
      " #   Column  Non-Null Count  Dtype \n",
      "---  ------  --------------  ----- \n",
      " 0   title   1000 non-null   object\n",
      " 1   lprice  1000 non-null   object\n",
      " 2   hprice  1000 non-null   object\n",
      " 3   link    1000 non-null   object\n",
      " 4   mall    1000 non-null   object\n",
      "dtypes: object(5)\n",
      "memory usage: 39.2+ KB\n"
     ]
    }
   ],
   "source": [
    "result_mol.info()"
   ]
  },
  {
   "cell_type": "code",
   "execution_count": 22,
   "metadata": {},
   "outputs": [
    {
     "data": {
      "text/html": [
       "<div>\n",
       "<style scoped>\n",
       "    .dataframe tbody tr th:only-of-type {\n",
       "        vertical-align: middle;\n",
       "    }\n",
       "\n",
       "    .dataframe tbody tr th {\n",
       "        vertical-align: top;\n",
       "    }\n",
       "\n",
       "    .dataframe thead th {\n",
       "        text-align: right;\n",
       "    }\n",
       "</style>\n",
       "<table border=\"1\" class=\"dataframe\">\n",
       "  <thead>\n",
       "    <tr style=\"text-align: right;\">\n",
       "      <th></th>\n",
       "      <th>title</th>\n",
       "      <th>lprice</th>\n",
       "      <th>hprice</th>\n",
       "      <th>link</th>\n",
       "      <th>mall</th>\n",
       "    </tr>\n",
       "  </thead>\n",
       "  <tbody>\n",
       "    <tr>\n",
       "      <th>0</th>\n",
       "      <td>[몰스킨] 2025년 클래식 다이어리 (12개월) (데일리, 위클리, 먼슬리)</td>\n",
       "      <td>16200</td>\n",
       "      <td></td>\n",
       "      <td>http://www.moleskine.co.kr/index.html?branduid...</td>\n",
       "      <td>몰스킨공식온라인스토어</td>\n",
       "    </tr>\n",
       "    <tr>\n",
       "      <th>1</th>\n",
       "      <td>몰스킨 클래식노트 하드커버</td>\n",
       "      <td>28800</td>\n",
       "      <td></td>\n",
       "      <td>https://search.shopping.naver.com/catalog/4622...</td>\n",
       "      <td>네이버</td>\n",
       "    </tr>\n",
       "    <tr>\n",
       "      <th>2</th>\n",
       "      <td>[백화점] 폴로 랄프로렌 남성 몰스킨 유틸리티 자켓</td>\n",
       "      <td>329000</td>\n",
       "      <td></td>\n",
       "      <td>https://smartstore.naver.com/main/products/113...</td>\n",
       "      <td>제이어드</td>\n",
       "    </tr>\n",
       "    <tr>\n",
       "      <th>3</th>\n",
       "      <td>로이텀 2025 다이어리 위클리&amp;amp;노트 소프트커버 하드커버 A5</td>\n",
       "      <td>25200</td>\n",
       "      <td></td>\n",
       "      <td>https://smartstore.naver.com/main/products/108...</td>\n",
       "      <td>몰스킨스토어</td>\n",
       "    </tr>\n",
       "    <tr>\n",
       "      <th>4</th>\n",
       "      <td>몰스킨 2025 위클리 다이어리 상품선택</td>\n",
       "      <td>18000</td>\n",
       "      <td></td>\n",
       "      <td>https://search.shopping.naver.com/catalog/5101...</td>\n",
       "      <td>네이버</td>\n",
       "    </tr>\n",
       "  </tbody>\n",
       "</table>\n",
       "</div>"
      ],
      "text/plain": [
       "                                         title  lprice hprice  \\\n",
       "0  [몰스킨] 2025년 클래식 다이어리 (12개월) (데일리, 위클리, 먼슬리)   16200          \n",
       "1                               몰스킨 클래식노트 하드커버   28800          \n",
       "2                 [백화점] 폴로 랄프로렌 남성 몰스킨 유틸리티 자켓  329000          \n",
       "3       로이텀 2025 다이어리 위클리&amp;노트 소프트커버 하드커버 A5   25200          \n",
       "4                       몰스킨 2025 위클리 다이어리 상품선택   18000          \n",
       "\n",
       "                                                link         mall  \n",
       "0  http://www.moleskine.co.kr/index.html?branduid...  몰스킨공식온라인스토어  \n",
       "1  https://search.shopping.naver.com/catalog/4622...          네이버  \n",
       "2  https://smartstore.naver.com/main/products/113...         제이어드  \n",
       "3  https://smartstore.naver.com/main/products/108...       몰스킨스토어  \n",
       "4  https://search.shopping.naver.com/catalog/5101...          네이버  "
      ]
     },
     "execution_count": 22,
     "metadata": {},
     "output_type": "execute_result"
    }
   ],
   "source": [
    "result_mol.head()"
   ]
  },
  {
   "cell_type": "code",
   "execution_count": 25,
   "metadata": {},
   "outputs": [],
   "source": [
    "result_mol[\"hprice\"].replace(\"\", \"0\", inplace=True)"
   ]
  },
  {
   "cell_type": "code",
   "execution_count": 26,
   "metadata": {},
   "outputs": [
    {
     "name": "stdout",
     "output_type": "stream",
     "text": [
      "<class 'pandas.core.frame.DataFrame'>\n",
      "RangeIndex: 1000 entries, 0 to 999\n",
      "Data columns (total 5 columns):\n",
      " #   Column  Non-Null Count  Dtype  \n",
      "---  ------  --------------  -----  \n",
      " 0   title   1000 non-null   object \n",
      " 1   lprice  1000 non-null   float64\n",
      " 2   hprice  1000 non-null   float64\n",
      " 3   link    1000 non-null   object \n",
      " 4   mall    1000 non-null   object \n",
      "dtypes: float64(2), object(3)\n",
      "memory usage: 39.2+ KB\n"
     ]
    }
   ],
   "source": [
    "result_mol['lprice'] = result_mol['lprice'].astype(float)\n",
    "result_mol['hprice'] = result_mol['hprice'].astype(float)\n",
    "result_mol.info()"
   ]
  }
 ],
 "metadata": {
  "kernelspec": {
   "display_name": "eda_venv",
   "language": "python",
   "name": "python3"
  },
  "language_info": {
   "codemirror_mode": {
    "name": "ipython",
    "version": 3
   },
   "file_extension": ".py",
   "mimetype": "text/x-python",
   "name": "python",
   "nbconvert_exporter": "python",
   "pygments_lexer": "ipython3",
   "version": "3.10.12"
  }
 },
 "nbformat": 4,
 "nbformat_minor": 2
}
