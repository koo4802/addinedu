{
 "cells": [
  {
   "cell_type": "code",
   "execution_count": 3,
   "id": "d6e2bbc4-13e7-4f78-a860-e23243e3438d",
   "metadata": {},
   "outputs": [
    {
     "name": "stdout",
     "output_type": "stream",
     "text": [
      "Hello World!\n"
     ]
    }
   ],
   "source": [
    "print(\"Hello World!\")"
   ]
  },
  {
   "cell_type": "code",
   "execution_count": 22,
   "id": "ac3361a6",
   "metadata": {},
   "outputs": [
    {
     "name": "stdout",
     "output_type": "stream",
     "text": [
      "1 2 3\n"
     ]
    }
   ],
   "source": [
    "x,y,z=1,2,3\n",
    "print(x,y,z)"
   ]
  },
  {
   "cell_type": "code",
   "execution_count": 26,
   "id": "a3c10d96",
   "metadata": {},
   "outputs": [
    {
     "name": "stdout",
     "output_type": "stream",
     "text": [
      "<class 'int'> 25\n"
     ]
    }
   ],
   "source": [
    "age = 25\n",
    "print(type(age),age)"
   ]
  },
  {
   "cell_type": "code",
   "execution_count": 29,
   "id": "b1763b66",
   "metadata": {},
   "outputs": [
    {
     "name": "stdout",
     "output_type": "stream",
     "text": [
      "Hello Alice!\n"
     ]
    }
   ],
   "source": [
    "greeting = \"Hello\"\n",
    "name = \"Alice\"\n",
    "message = greeting + \" \" + name + \"!\"\n",
    "print(message)"
   ]
  },
  {
   "cell_type": "code",
   "execution_count": 31,
   "id": "3575337f",
   "metadata": {},
   "outputs": [
    {
     "name": "stdout",
     "output_type": "stream",
     "text": [
      "Hello, Alice!\n"
     ]
    }
   ],
   "source": [
    "greeting = \"Hello, {}!\".format(name)\n",
    "print(greeting)"
   ]
  },
  {
   "cell_type": "code",
   "execution_count": 32,
   "id": "f854bffe",
   "metadata": {},
   "outputs": [
    {
     "name": "stdout",
     "output_type": "stream",
     "text": [
      "Hello, Alice!\n"
     ]
    }
   ],
   "source": [
    "name = \"Alice\"\n",
    "greeting = f\"Hello, {name}!\"\n",
    "print(greeting)"
   ]
  },
  {
   "cell_type": "code",
   "execution_count": 35,
   "id": "9a37c868",
   "metadata": {},
   "outputs": [
    {
     "name": "stdout",
     "output_type": "stream",
     "text": [
      "HelloWorld\n",
      "Hello, World!0 1 2 3 4 "
     ]
    }
   ],
   "source": [
    "print(\"Hello\", end=\"\")\n",
    "print(\"World\")\n",
    "\n",
    "print(\"Hello\", end=\", \")\n",
    "print(\"World!\", end=\"!\")\n",
    "\n",
    "for i in range(5):\n",
    "    print(i, end=\" \")"
   ]
  },
  {
   "cell_type": "code",
   "execution_count": 39,
   "id": "fa850cbd",
   "metadata": {},
   "outputs": [
    {
     "name": "stdout",
     "output_type": "stream",
     "text": [
      "Hello\n",
      "World!\n",
      "Hello\tWorld!\n"
     ]
    }
   ],
   "source": [
    "print(\"Hello\\nWorld!\")\n",
    "print(\"Hello\\tWorld!\")"
   ]
  },
  {
   "cell_type": "code",
   "execution_count": 41,
   "id": "f1e43920",
   "metadata": {},
   "outputs": [
    {
     "name": "stdout",
     "output_type": "stream",
     "text": [
      "문자열 내외 \\n과 같은 이스케이프 시퀀스가 무시됩니다.\n",
      "C:\\Users\\user\\Documents\\Python\\test.txt\n",
      "['123', '456']\n"
     ]
    }
   ],
   "source": [
    "raw_string = r\"문자열 내외 \\n과 같은 이스케이프 시퀀스가 무시됩니다.\"\n",
    "print(raw_string)\n",
    "\n",
    "file_path = r\"C:\\Users\\user\\Documents\\Python\\test.txt\"\n",
    "print(file_path)\n",
    "\n",
    "import re\n",
    "\n",
    "pattern = r\"\\d+\"\n",
    "text = \"There are 123 apples and 456 oranges.\"\n",
    "\n",
    "matches = re.findall(pattern, text)\n",
    "print(matches)"
   ]
  },
  {
   "cell_type": "code",
   "execution_count": 28,
   "id": "fd9eb8ec",
   "metadata": {},
   "outputs": [
    {
     "name": "stdout",
     "output_type": "stream",
     "text": [
      "1\n"
     ]
    }
   ],
   "source": [
    "a = [1,2,3]\n",
    "print(a[0])"
   ]
  },
  {
   "cell_type": "code",
   "execution_count": 8,
   "id": "b476b861",
   "metadata": {},
   "outputs": [
    {
     "name": "stdout",
     "output_type": "stream",
     "text": [
      "[1, 2]\n"
     ]
    }
   ],
   "source": [
    "a = [1,2,3,4,5]\n",
    "b = a[0:2]\n",
    "print(b)"
   ]
  },
  {
   "cell_type": "code",
   "execution_count": 10,
   "id": "9e2af446",
   "metadata": {},
   "outputs": [
    {
     "name": "stdout",
     "output_type": "stream",
     "text": [
      "[1, 2, 3, 4, 5, 6]\n"
     ]
    }
   ],
   "source": [
    "a = [1,2,3]\n",
    "b = [4,5,6]\n",
    "print(a+b)"
   ]
  },
  {
   "cell_type": "code",
   "execution_count": 11,
   "id": "42d292e2",
   "metadata": {},
   "outputs": [
    {
     "name": "stdout",
     "output_type": "stream",
     "text": [
      "6\n"
     ]
    }
   ],
   "source": [
    "print(len(a+b))"
   ]
  },
  {
   "cell_type": "code",
   "execution_count": 13,
   "id": "88cc02a0",
   "metadata": {},
   "outputs": [
    {
     "name": "stdout",
     "output_type": "stream",
     "text": [
      "[4, 5, 6, 1, 2, 3]\n",
      "[1, 2, 3, 4, 5, 6]\n"
     ]
    }
   ],
   "source": [
    "c = b+a\n",
    "print(c)\n",
    "c.sort()\n",
    "print(c)"
   ]
  },
  {
   "cell_type": "code",
   "execution_count": 15,
   "id": "d8552f77",
   "metadata": {},
   "outputs": [
    {
     "name": "stdout",
     "output_type": "stream",
     "text": [
      "2\n"
     ]
    }
   ],
   "source": [
    "a=[1,2,3]\n",
    "print(a.index(3))"
   ]
  },
  {
   "cell_type": "code",
   "execution_count": 17,
   "id": "581c4f37",
   "metadata": {},
   "outputs": [
    {
     "name": "stdout",
     "output_type": "stream",
     "text": [
      "1\n"
     ]
    }
   ],
   "source": [
    "list = ['apple','banana','orange']\n",
    "print(list.count('apple'))"
   ]
  },
  {
   "cell_type": "code",
   "execution_count": 19,
   "id": "0b5b7f5d",
   "metadata": {},
   "outputs": [
    {
     "name": "stdout",
     "output_type": "stream",
     "text": [
      "apple is in the list\n"
     ]
    }
   ],
   "source": [
    "if 'apple' in list:\n",
    "    print(\"apple is in the list\")\n",
    "else:\n",
    "    print(\"apple is not in the list\")"
   ]
  },
  {
   "cell_type": "code",
   "execution_count": 20,
   "id": "b16cb33f",
   "metadata": {},
   "outputs": [
    {
     "name": "stdout",
     "output_type": "stream",
     "text": [
      "Apple is not in the list\n"
     ]
    }
   ],
   "source": [
    "if 'Apple' in list:\n",
    "    print(\"Apple is in the list\")\n",
    "else:\n",
    "    print(\"Apple is not in the list\")"
   ]
  },
  {
   "cell_type": "code",
   "execution_count": 43,
   "id": "f44f18b8",
   "metadata": {},
   "outputs": [
    {
     "name": "stdout",
     "output_type": "stream",
     "text": [
      "()\n",
      "(3,)\n",
      "('Diana', 32, 'New York')\n"
     ]
    }
   ],
   "source": [
    "Tuple_example = ()\n",
    "Single_item_tuple = (3,)\n",
    "PersonInfo = (\"Diana\", 32, \"New York\")\n",
    "\n",
    "print(Tuple_example)\n",
    "print(Single_item_tuple)\n",
    "print(PersonInfo)"
   ]
  },
  {
   "cell_type": "code",
   "execution_count": 49,
   "id": "de69b2b3",
   "metadata": {},
   "outputs": [
    {
     "name": "stdout",
     "output_type": "stream",
     "text": [
      "Diana\n",
      "32\n",
      "3\n"
     ]
    }
   ],
   "source": [
    "print(PersonInfo[0])\n",
    "print(PersonInfo[1])\n",
    "print(Single_item_tuple[0])"
   ]
  },
  {
   "cell_type": "code",
   "execution_count": 50,
   "id": "704322ba",
   "metadata": {},
   "outputs": [
    {
     "name": "stdout",
     "output_type": "stream",
     "text": [
      "Canada\n"
     ]
    }
   ],
   "source": [
    "name, age, country, career = (\"Diana\", 32, \"Canada\", \"CompSci\")\n",
    "print(country)"
   ]
  },
  {
   "cell_type": "code",
   "execution_count": 70,
   "id": "21b2f531",
   "metadata": {},
   "outputs": [
    {
     "name": "stdout",
     "output_type": "stream",
     "text": [
      "(3, 4, 5, 6, 1, 2, 3)\n",
      "6\n"
     ]
    }
   ],
   "source": [
    "x = (3,4,5,6)\n",
    "x = x+(1,2,3)\n",
    "print(x)\n",
    "print(x[3])\n"
   ]
  }
 ],
 "metadata": {
  "kernelspec": {
   "display_name": ".venv",
   "language": "python",
   "name": "python3"
  },
  "language_info": {
   "codemirror_mode": {
    "name": "ipython",
    "version": 3
   },
   "file_extension": ".py",
   "mimetype": "text/x-python",
   "name": "python",
   "nbconvert_exporter": "python",
   "pygments_lexer": "ipython3",
   "version": "3.10.12"
  }
 },
 "nbformat": 4,
 "nbformat_minor": 5
}
